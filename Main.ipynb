{
 "cells": [
  {
   "cell_type": "markdown",
   "metadata": {},
   "source": [
    "# GreenVine: Early Plant Disease Detection\n",
    "<hr>"
   ]
  },
  {
   "cell_type": "markdown",
   "metadata": {},
   "source": [
    "## About Dataset - \n",
    "Link to the dataset: https://data.mendeley.com/datasets/89cnxc58kj/1\n",
    "- Authors collected the dataset of the grapevine leaf images categorizing into two, healthy and unhealty. The images are captured manually using 2 smartphones and 1 tablet.\n",
    "- The images exhibit resolution of 1920x1080 pixels and 1280x720 pixels by both portrait and landscape orientation.\n",
    "- The dataset comprises of 1770 images and is structured within the main folder \"esca_dataset\", which containts 2 subfolders \"healthy\"(882 images) and \"unhealthy\"(888 images)    "
   ]
  },
  {
   "cell_type": "markdown",
   "metadata": {},
   "source": [
    "## Solution - \n",
    "When working with deep learning alot of data is required, since the data is only 1770, image augmentation is the way to go.\n",
    "\n",
    "    `Augmentation is the technique which transforms existing images and creates new images.`\n",
    "\n",
    "IMAGE AUGMENTATION IS DONE IN THE `PlantDisease Augmentation.ipynb` FILE"
   ]
  },
  {
   "cell_type": "code",
   "execution_count": null,
   "metadata": {},
   "outputs": [],
   "source": []
  }
 ],
 "metadata": {
  "kernelspec": {
   "display_name": "Python 3",
   "language": "python",
   "name": "python3"
  },
  "language_info": {
   "codemirror_mode": {
    "name": "ipython",
    "version": 3
   },
   "file_extension": ".py",
   "mimetype": "text/x-python",
   "name": "python",
   "nbconvert_exporter": "python",
   "pygments_lexer": "ipython3",
   "version": "3.11.3"
  }
 },
 "nbformat": 4,
 "nbformat_minor": 2
}
