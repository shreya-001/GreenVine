{
 "cells": [
  {
   "cell_type": "markdown",
   "metadata": {},
   "source": [
    "# Plant Disease Image Augmentation \n",
    "<hr>"
   ]
  },
  {
   "cell_type": "code",
   "execution_count": 3,
   "metadata": {},
   "outputs": [],
   "source": [
    "import os"
   ]
  },
  {
   "cell_type": "code",
   "execution_count": 4,
   "metadata": {},
   "outputs": [],
   "source": [
    "dataset_path = \"/Users/shreyanair/GreenVine/Plant Disease/\"\n",
    "num_healthy_images = len(os.listdir(os.path.join(dataset_path,'Healthy')))\n",
    "num_unhealthy_images = len(os.listdir(os.path.join(dataset_path,'Unhealthy')))\n"
   ]
  },
  {
   "cell_type": "code",
   "execution_count": 5,
   "metadata": {},
   "outputs": [
    {
     "name": "stdout",
     "output_type": "stream",
     "text": [
      "Number of healthy images  882\n",
      "Number of Unhealthy Images 888\n"
     ]
    }
   ],
   "source": [
    "print(\"Number of healthy images \", num_healthy_images)\n",
    "print(\"Number of Unhealthy Images\", num_unhealthy_images)"
   ]
  },
  {
   "cell_type": "markdown",
   "metadata": {},
   "source": [
    "## 1. Image Augmentation"
   ]
  },
  {
   "cell_type": "markdown",
   "metadata": {},
   "source": [
    "1. Each of the images in healthy and unhealty folders are augmented which is then saved to a folder called as \"Augmented\".\n",
    "2. Under Augmented Folder I created two new folders called \"Healthy_aug\" and \"Unhealthy_aug\".\n",
    "3. Once the transformation is completed, the original healthy images and augmented healthy images are moved to a new folder called \"Healthy_new\". \n",
    "4. 3rd step is repeated for the unhealthy images.\n",
    "\n",
    "> With the help of the above steps we were able to increase the size of the dataset."
   ]
  },
  {
   "cell_type": "code",
   "execution_count": 7,
   "metadata": {},
   "outputs": [],
   "source": [
    "from tensorflow.keras.preprocessing.image import ImageDataGenerator, load_img, save_img, img_to_array \n",
    "healthy_path = \"/Users/shreyanair/GreenVine/Plant Disease/Healthy\"\n",
    "unhealthy_path = \"/Users/shreyanair/GreenVine/Plant Disease/Unhealthy\"\n",
    "augmented_path = \"/Users/shreyanair/GreenVine/Plant Disease/Augmented\"\n",
    "\n",
    "datagen = ImageDataGenerator(\n",
    "    rotation_range = 10,\n",
    "    width_shift_range = 0.2,\n",
    "    height_shift_range = 0.2,\n",
    "    shear_range = 0.2,\n",
    "    zoom_range = 0.2,\n",
    "    horizontal_flip = True,\n",
    "    vertical_flip = True,\n",
    "    brightness_range = (0.8,1.2),\n",
    "    fill_mode = 'nearest'\n",
    ")\n",
    "\n",
    "healthy_images = os.listdir(healthy_path)\n",
    "unhealthy_images = os.listdir(unhealthy_path)\n"
   ]
  },
  {
   "cell_type": "code",
   "execution_count": 10,
   "metadata": {},
   "outputs": [],
   "source": [
    "# apply the transformations to healthy images\n",
    "\n",
    "for image_name in healthy_images:\n",
    "    image_path = os.path.join(healthy_path, image_name)\n",
    "    image = load_img(image_path)\n",
    "    image_array = img_to_array(image)\n",
    "    image = datagen.random_transform(image_array)\n",
    "    save_path = os.path.join(augmented_path, 'Healthy_aug', 'aug_' + image_name)\n",
    "    save_img(save_path,image)"
   ]
  },
  {
   "cell_type": "code",
   "execution_count": 11,
   "metadata": {},
   "outputs": [],
   "source": [
    "for image_name in unhealthy_images:\n",
    "    image_path = os.path.join(unhealthy_path, image_name)\n",
    "    image = load_img(image_path)\n",
    "    image_array = img_to_array(image)\n",
    "    image = datagen.random_transform(image_array)\n",
    "    save_path = os.path.join(augmented_path, 'Unhealthy_aug', 'aug_' + image_name)\n",
    "    save_img(save_path,image)"
   ]
  },
  {
   "cell_type": "code",
   "execution_count": null,
   "metadata": {},
   "outputs": [],
   "source": []
  }
 ],
 "metadata": {
  "kernelspec": {
   "display_name": "Python 3",
   "language": "python",
   "name": "python3"
  },
  "language_info": {
   "codemirror_mode": {
    "name": "ipython",
    "version": 3
   },
   "file_extension": ".py",
   "mimetype": "text/x-python",
   "name": "python",
   "nbconvert_exporter": "python",
   "pygments_lexer": "ipython3",
   "version": "3.11.3"
  }
 },
 "nbformat": 4,
 "nbformat_minor": 2
}
